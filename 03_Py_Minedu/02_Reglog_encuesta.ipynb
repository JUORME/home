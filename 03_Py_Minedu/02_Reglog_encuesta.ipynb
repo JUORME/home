{
 "cells": [
  {
   "cell_type": "code",
   "execution_count": 1,
   "metadata": {},
   "outputs": [],
   "source": [
    "# Librerias\n",
    "import pandas as pd\n",
    "import matplotlib.pyplot as plt\n",
    "import seaborn as sns\n",
    "from sklearn.model_selection import train_test_split\n",
    "from sklearn.linear_model import LogisticRegression\n",
    "from sklearn import metrics"
   ]
  },
  {
   "cell_type": "markdown",
   "metadata": {},
   "source": [
    "# Curso Minedu"
   ]
  },
  {
   "cell_type": "markdown",
   "metadata": {},
   "source": [
    "Curso: Gestiona entornos virtuales para apoyar el aceeso a los contenidos, actividades y evaluaciones diversificadas 2ed"
   ]
  },
  {
   "cell_type": "code",
   "execution_count": 18,
   "metadata": {},
   "outputs": [
    {
     "name": "stderr",
     "output_type": "stream",
     "text": [
      "C:\\Users\\JuniorOM\\AppData\\Local\\Temp\\ipykernel_9492\\2394612235.py:2: DtypeWarning: Columns (25) have mixed types. Specify dtype option on import or set low_memory=False.\n",
      "  df = pd.read_csv(\"../data/df_encuesta_final.csv\",sep=\";\")\n"
     ]
    }
   ],
   "source": [
    "# Cargamos los datos\n",
    "df = pd.read_csv(\"../data/df_encuesta_final.csv\",sep=\";\") "
   ]
  },
  {
   "cell_type": "code",
   "execution_count": 79,
   "metadata": {},
   "outputs": [],
   "source": [
    "# Funcion de nulos y count\n",
    "# def side_by_side(*objs, **kwds):\n",
    "#     from pandas.io.formats.printing import adjoin\n",
    "#     space = kwds.get('space',4)\n",
    "#     reprs = [repr(obj).split('\\n') for obj in objs]\n",
    "#     print(adjoin(space, *reprs))\n",
    "#     print()\n",
    "#     return"
   ]
  },
  {
   "cell_type": "markdown",
   "metadata": {},
   "source": [
    "### Data Cleaning"
   ]
  },
  {
   "cell_type": "code",
   "execution_count": 100,
   "metadata": {},
   "outputs": [],
   "source": [
    "# Salida del total filas si tienen valores \n",
    "#df.info()"
   ]
  },
  {
   "cell_type": "code",
   "execution_count": 19,
   "metadata": {},
   "outputs": [],
   "source": [
    "# Elimar columnas \n",
    "df1 = df.drop(['Curso'\n",
    "                ,'Ugel'\n",
    "                ,'Cargo_otros'\n",
    "                ,'Nivel_otros'\n",
    "                ,'Inicial'\n",
    "                ,'Primaria'\n",
    "                ,'Secundaria'\n",
    "                ,'Experiencia_anio'\n",
    "                ,'Situacion_laboral_Esp'\n",
    "                ,'p11'\n",
    "                ,'p12'\n",
    "                ,'p17'\n",
    "                ,'p18'\n",
    "                ,'p17_Esp'\n",
    "                ,'p18_Esp'\n",
    "                ,'p19_Esp'\n",
    "                ,'p19_Esp_1'\n",
    "                ,'p19_Esp_2'\n",
    "                ,'p21_Esp'\n",
    "                ,'pc_00'],axis=1)"
   ]
  },
  {
   "cell_type": "code",
   "execution_count": 20,
   "metadata": {},
   "outputs": [
    {
     "data": {
      "text/plain": [
       "Index(['Region', 'Edad', 'Sexo', 'Cargo', 'Nivel', 'Grado',\n",
       "       'Situacion_laboral', 'p1', 'p2', 'p3', 'p4', 'p5', 'p6', 'p7', 'p8',\n",
       "       'p9', 'p10', 'p13', 'p14', 'p15', 'p16', 'p19', 'p20', 'p21', 'pc_01',\n",
       "       'pc_02', 'pc_03', 'pc_04', 'pc_05', 'pc_06', 'pc_07', 'pc_08', 'pc_09'],\n",
       "      dtype='object')"
      ]
     },
     "execution_count": 20,
     "metadata": {},
     "output_type": "execute_result"
    }
   ],
   "source": [
    "df1.columns"
   ]
  },
  {
   "cell_type": "code",
   "execution_count": 21,
   "metadata": {},
   "outputs": [],
   "source": [
    "# Reclasificar las variables de importancia \n",
    "# p1 al p10\n",
    "reclass_01 = {\"Satisfecho\":1,\"Muy satisfecho\":1,\"Poco satisfecho\": 0,\"Nada satisfecho\":0}\n",
    "df1['p1'] = df1['p1'].map(reclass_01)\n",
    "\n",
    "reclass_02 = {\"Nada satisfecho\":1,\"Poco satisfecho\":2,\"Satisfecho\":3,\"Muy satisfecho\":4}\n",
    "df1['p2'] = df1['p2'].map(reclass_02)\n",
    "df1['p3'] = df1['p3'].map(reclass_02)\n",
    "df1['p4'] = df1['p4'].map(reclass_02)\n",
    "df1['p5'] = df1['p5'].map(reclass_02)\n",
    "df1['p6'] = df1['p6'].map(reclass_02)\n",
    "df1['p7'] = df1['p7'].map(reclass_02)\n",
    "df1['p8'] = df1['p8'].map(reclass_02)\n",
    "df1['p9'] = df1['p9'].map(reclass_02)\n",
    "df1['p10'] = df1['p10'].map(reclass_02)\n",
    "df1['p13'] = df1['p13'].map(reclass_02)\n",
    "df1['p14'] = df1['p14'].map(reclass_02)\n",
    "\n",
    "reclass_03 = {'Nada útil':1,'Poco útil':2,\"Útil\":3,\"Muy útil\":4}\n",
    "df1['p15'] = df1['p15'].map(reclass_03)\n",
    "df1['p16'] = df1['p16'].map(reclass_03)\n",
    "\n",
    "reclass_04 = {'Sí':1,'No':0}\n",
    "df1['p19'] = df1['p19'].map(reclass_04)\n"
   ]
  },
  {
   "cell_type": "code",
   "execution_count": 14,
   "metadata": {},
   "outputs": [
    {
     "name": "stdout",
     "output_type": "stream",
     "text": [
      "<class 'pandas.core.frame.DataFrame'>\n",
      "RangeIndex: 33263 entries, 0 to 33262\n",
      "Data columns (total 35 columns):\n",
      " #   Column             Non-Null Count  Dtype  \n",
      "---  ------             --------------  -----  \n",
      " 0   Region             33263 non-null  object \n",
      " 1   Edad               33138 non-null  object \n",
      " 2   Sexo               33093 non-null  object \n",
      " 3   Cargo              33214 non-null  object \n",
      " 4   Nivel              33207 non-null  object \n",
      " 5   Grado              29016 non-null  object \n",
      " 6   Situacion_laboral  33154 non-null  object \n",
      " 7   p1                 33263 non-null  int64  \n",
      " 8   p2                 33263 non-null  int64  \n",
      " 9   p3                 33263 non-null  int64  \n",
      " 10  p4                 33263 non-null  int64  \n",
      " 11  p5                 33263 non-null  int64  \n",
      " 12  p6                 33263 non-null  int64  \n",
      " 13  p7                 33263 non-null  int64  \n",
      " 14  p8                 33263 non-null  int64  \n",
      " 15  p9                 33263 non-null  int64  \n",
      " 16  p10                17440 non-null  float64\n",
      " 17  p13                33263 non-null  int64  \n",
      " 18  p14                33263 non-null  int64  \n",
      " 19  p15                29202 non-null  float64\n",
      " 20  p16                29202 non-null  float64\n",
      " 21  p17                33263 non-null  object \n",
      " 22  p18                33263 non-null  object \n",
      " 23  p19                31508 non-null  float64\n",
      " 24  p20                33263 non-null  object \n",
      " 25  p21                33263 non-null  object \n",
      " 26  pc_01              33263 non-null  int64  \n",
      " 27  pc_02              33263 non-null  int64  \n",
      " 28  pc_03              33263 non-null  int64  \n",
      " 29  pc_04              33263 non-null  int64  \n",
      " 30  pc_05              33263 non-null  int64  \n",
      " 31  pc_06              33263 non-null  int64  \n",
      " 32  pc_07              33263 non-null  int64  \n",
      " 33  pc_08              33263 non-null  int64  \n",
      " 34  pc_09              33263 non-null  int64  \n",
      "dtypes: float64(4), int64(20), object(11)\n",
      "memory usage: 8.9+ MB\n"
     ]
    }
   ],
   "source": [
    "df1.info()"
   ]
  },
  {
   "cell_type": "code",
   "execution_count": 22,
   "metadata": {},
   "outputs": [
    {
     "data": {
      "text/plain": [
       "Region               25\n",
       "Edad                  5\n",
       "Sexo                  2\n",
       "Cargo                 4\n",
       "Nivel                 7\n",
       "Grado                 6\n",
       "Situacion_laboral     3\n",
       "p1                    2\n",
       "p2                    4\n",
       "p3                    4\n",
       "p4                    4\n",
       "p5                    4\n",
       "p6                    4\n",
       "p7                    4\n",
       "p8                    4\n",
       "p9                    4\n",
       "p10                   4\n",
       "p13                   4\n",
       "p14                   4\n",
       "p15                   4\n",
       "p16                   4\n",
       "p19                   2\n",
       "p20                   4\n",
       "p21                   9\n",
       "pc_01                 2\n",
       "pc_02                 2\n",
       "pc_03                 2\n",
       "pc_04                 2\n",
       "pc_05                 2\n",
       "pc_06                 2\n",
       "pc_07                 2\n",
       "pc_08                 2\n",
       "pc_09                 2\n",
       "dtype: int64"
      ]
     },
     "execution_count": 22,
     "metadata": {},
     "output_type": "execute_result"
    }
   ],
   "source": [
    "df1.nunique()"
   ]
  },
  {
   "cell_type": "markdown",
   "metadata": {},
   "source": [
    "### Check Balance"
   ]
  },
  {
   "cell_type": "code",
   "execution_count": 31,
   "metadata": {},
   "outputs": [
    {
     "name": "stdout",
     "output_type": "stream",
     "text": [
      "Conteo de Classe p1 : Satisfaccion del Curso\n",
      "1    31502\n",
      "0     1761\n",
      "Name: p1, dtype: int64\n",
      "(33263, 33)\n"
     ]
    },
    {
     "data": {
      "image/png": "[encoded data removed]",
      "text/plain": [
       "<Figure size 432x288 with 1 Axes>"
      ]
     },
     "metadata": {
      "needs_background": "light"
     },
     "output_type": "display_data"
    }
   ],
   "source": [
    "print(\"Conteo de Classe p1 : Satisfaccion del Curso\")\n",
    "print(df1['p1'].value_counts())\n",
    "print(df1.shape)\n",
    "df1['p1'].value_counts(normalize = True).plot(kind='bar')\n",
    "plt.ylabel('Frecuencia')\n",
    "plt.title('Satisfaccion del curso')\n",
    "plt.show()"
   ]
  },
  {
   "cell_type": "code",
   "execution_count": null,
   "metadata": {},
   "outputs": [],
   "source": []
  }
 ],
 "metadata": {
  "interpreter": {
   "hash": "b9ae30a0651f19c92d0c19a372e6e25f520d26f264c01aa263c51a0bc8ce084b"
  },
  "kernelspec": {
   "display_name": "Python 3.10.4 64-bit",
   "language": "python",
   "name": "python3"
  },
  "language_info": {
   "codemirror_mode": {
    "name": "ipython",
    "version": 3
   },
   "file_extension": ".py",
   "mimetype": "text/x-python",
   "name": "python",
   "nbconvert_exporter": "python",
   "pygments_lexer": "ipython3",
   "version": "3.10.4"
  },
  "orig_nbformat": 4
 },
 "nbformat": 4,
 "nbformat_minor": 2
}
