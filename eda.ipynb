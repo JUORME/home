{
 "cells": [
  {
   "cell_type": "code",
   "execution_count": 1,
   "metadata": {},
   "outputs": [],
   "source": [
    "import pandas as pd\n",
    "import matplotlib as plt"
   ]
  },
  {
   "cell_type": "code",
   "execution_count": 3,
   "metadata": {},
   "outputs": [
    {
     "name": "stderr",
     "output_type": "stream",
     "text": [
      "C:\\Users\\JuniorOM\\AppData\\Local\\Temp\\ipykernel_13012\\367798086.py:1: DtypeWarning: Columns (33) have mixed types. Specify dtype option on import or set low_memory=False.\n",
      "  df = pd.read_csv(\"https://raw.githubusercontent.com/JUORME/home/master/data/datosvrg.csv\")\n"
     ]
    }
   ],
   "source": [
    "df = pd.read_csv(\"https://raw.githubusercontent.com/JUORME/home/master/data/datosvrg.csv\")\n",
    "dft1 = pd.read_csv(\"https://raw.githubusercontent.com/JUORME/home/master/data/cies_10.csv\",encoding = \"ISO-8859-1\") \n"
   ]
  },
  {
   "cell_type": "code",
   "execution_count": 4,
   "metadata": {},
   "outputs": [
    {
     "name": "stdout",
     "output_type": "stream",
     "text": [
      "(154811, 51)\n",
      "(12646, 3)\n"
     ]
    }
   ],
   "source": [
    "print(df.shape)\n",
    "print(dft1.shape)"
   ]
  },
  {
   "cell_type": "code",
   "execution_count": 5,
   "metadata": {},
   "outputs": [],
   "source": [
    "df1 = df[[\"ano\",\"mes\",\"dia\",\"cod_dpto\",\"cod_prov\",\"cod_dist\",\"edad\",\"tip_edad\",\"sexo\",\"establec\",\"servicio\",\n",
    "          \"diagnost1\",\"labconf1\",\"codigo1\",\n",
    "          \"diagnost2\",\"labconf2\",\"codigo2\",\n",
    "          \"diagnost3\",\"labconf3\",\"codigo3\",\n",
    "          \"diagnost4\",\"labconf4\",\"codigo4\",\n",
    "          \"diagnost5\",\"labconf5\",\"codigo5\",\n",
    "          \"diagnost6\",\"labconf6\",\"codigo6\",\n",
    "          \"desc_servs\"]]"
   ]
  },
  {
   "cell_type": "markdown",
   "metadata": {},
   "source": [
    "***Tabla de Frecuencuias para las edades con 4 grupos***"
   ]
  },
  {
   "cell_type": "code",
   "execution_count": 6,
   "metadata": {},
   "outputs": [
    {
     "name": "stderr",
     "output_type": "stream",
     "text": [
      "C:\\Users\\JuniorOM\\AppData\\Local\\Temp\\ipykernel_13012\\3986665867.py:1: SettingWithCopyWarning: \n",
      "A value is trying to be set on a copy of a slice from a DataFrame.\n",
      "Try using .loc[row_indexer,col_indexer] = value instead\n",
      "\n",
      "See the caveats in the documentation: https://pandas.pydata.org/pandas-docs/stable/user_guide/indexing.html#returning-a-view-versus-a-copy\n",
      "  df1[\"edad_group\"]=pd.cut(df1[\"edad\"],bins=4)\n"
     ]
    },
    {
     "data": {
      "text/html": [
       "<div>\n",
       "<style scoped>\n",
       "    .dataframe tbody tr th:only-of-type {\n",
       "        vertical-align: middle;\n",
       "    }\n",
       "\n",
       "    .dataframe tbody tr th {\n",
       "        vertical-align: top;\n",
       "    }\n",
       "\n",
       "    .dataframe thead th {\n",
       "        text-align: right;\n",
       "    }\n",
       "</style>\n",
       "<table border=\"1\" class=\"dataframe\">\n",
       "  <thead>\n",
       "    <tr style=\"text-align: right;\">\n",
       "      <th></th>\n",
       "      <th>frecuencia</th>\n",
       "    </tr>\n",
       "    <tr>\n",
       "      <th>edad_group</th>\n",
       "      <th></th>\n",
       "    </tr>\n",
       "  </thead>\n",
       "  <tbody>\n",
       "    <tr>\n",
       "      <th>(-0.099, 24.75]</th>\n",
       "      <td>57043</td>\n",
       "    </tr>\n",
       "    <tr>\n",
       "      <th>(24.75, 49.5]</th>\n",
       "      <td>47685</td>\n",
       "    </tr>\n",
       "    <tr>\n",
       "      <th>(49.5, 74.25]</th>\n",
       "      <td>38771</td>\n",
       "    </tr>\n",
       "    <tr>\n",
       "      <th>(74.25, 99.0]</th>\n",
       "      <td>11312</td>\n",
       "    </tr>\n",
       "  </tbody>\n",
       "</table>\n",
       "</div>"
      ],
      "text/plain": [
       "                 frecuencia\n",
       "edad_group                 \n",
       "(-0.099, 24.75]       57043\n",
       "(24.75, 49.5]         47685\n",
       "(49.5, 74.25]         38771\n",
       "(74.25, 99.0]         11312"
      ]
     },
     "execution_count": 6,
     "metadata": {},
     "output_type": "execute_result"
    }
   ],
   "source": [
    "df1[\"edad_group\"]=pd.cut(df1[\"edad\"],bins=4)\n",
    "df1.groupby(\"edad_group\").agg(frecuencia=(\"edad\",\"count\"))"
   ]
  },
  {
   "cell_type": "markdown",
   "metadata": {},
   "source": [
    "***Servicio con mayor numero de Atenciones***"
   ]
  },
  {
   "cell_type": "code",
   "execution_count": 7,
   "metadata": {},
   "outputs": [
    {
     "data": {
      "text/plain": [
       "desc_servs\n",
       "MEDICINA REHABILITACION                    36895\n",
       "CONSULTORIO CONTROL TUBERCULOSIS           14949\n",
       "INMUNIZACIONES                              5870\n",
       "OFTALMOLOGIA                                5866\n",
       "CONSEJERIA                                  5844\n",
       "ENFERMEDADES INFECCIOSAS / INFECTOLOGÍA     5745\n",
       "PLANIFICACION FAMILIAR                      5035\n",
       "CIRUGIA                                     4684\n",
       "CARDIOLOGIA                                 4645\n",
       "CRECIMIENTO Y DESARROLLO                    4460\n",
       "Name: desc_servs, dtype: int64"
      ]
     },
     "execution_count": 7,
     "metadata": {},
     "output_type": "execute_result"
    }
   ],
   "source": [
    "df1.groupby([\"desc_servs\"])[\"desc_servs\"].count().sort_values(ascending=False).head(10)"
   ]
  }
 ],
 "metadata": {
  "interpreter": {
   "hash": "b9ae30a0651f19c92d0c19a372e6e25f520d26f264c01aa263c51a0bc8ce084b"
  },
  "kernelspec": {
   "display_name": "Python 3.10.4 64-bit",
   "language": "python",
   "name": "python3"
  },
  "language_info": {
   "codemirror_mode": {
    "name": "ipython",
    "version": 3
   },
   "file_extension": ".py",
   "mimetype": "text/x-python",
   "name": "python",
   "nbconvert_exporter": "python",
   "pygments_lexer": "ipython3",
   "version": "3.10.4"
  },
  "orig_nbformat": 4
 },
 "nbformat": 4,
 "nbformat_minor": 2
}
